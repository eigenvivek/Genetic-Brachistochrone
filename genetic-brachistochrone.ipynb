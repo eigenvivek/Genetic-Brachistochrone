{
 "cells": [
  {
   "cell_type": "markdown",
   "metadata": {},
   "source": [
    "</hr>\n",
    "\n",
    "# Approximating the Brachistochrone Curve with a Genetic Algorithm\n",
    "\n",
    "Vivek Gopalakrishnan | June 9, 2018\n",
    "\n",
    "\n",
    "**Problem setup:**\n",
    "\n",
    "Find the least-time path between two points in 2-dimensional space. Assume friction is negligible and that all particles experience a uniform gravitational field.\n",
    "\n",
    "**Theory:**\n",
    "\n",
    "This project aims to numerically approximate the Brachistochrone, the path of least-time connecting two points. The path of least-time is defined as the path that, if followed by a particle, would take the least time to travel from one point to another. From classical proofs derived in the 1600s, we know know that this path is a cycloid, the curve obtained by tracing the path of a singular point on a wheel as the wheel rolls through space. Instead of using proof, I indend to find the least-time path using a genetic algorithm.\n",
    "\n",
    "**Algorithm:**\n",
    "\n",
    "1. Two points are randomly initialized and fixed in two-dimensional space. \n",
    "2. A population of random paths are generated. \n",
    "3. The times required to travel these paths are calculated (*time* is the genetic algorithm's fitness score). \n",
    "4. Paths with high fitness scores are more likely to be selected in the mating pool. The pool randomly combines different parent paths to create a new generation of paths.\n",
    "5. Iterate through steps 3 and 4 until the fitnesses converge to a steady value.\n",
    "6. Visualize these curves and compare to the theoretical values.\n",
    "\n",
    "**References:**\n",
    "- [Brachistochrone Curve](https://en.wikipedia.org/wiki/Brachistochrone_curve)\n",
    "- [Genetic Algorithms](http://natureofcode.com/book/chapter-9-the-evolution-of-code/)\n",
    "\n",
    "<hr>"
   ]
  },
  {
   "cell_type": "markdown",
   "metadata": {},
   "source": [
    "### Step 0: Setup"
   ]
  },
  {
   "cell_type": "code",
   "execution_count": 1,
   "metadata": {},
   "outputs": [],
   "source": [
    "import numpy as np\n",
    "from scipy.interpolate import interp1d\n",
    "import matplotlib.pyplot as plt\n",
    "from noise import perlin\n",
    "%matplotlib inline"
   ]
  },
  {
   "cell_type": "markdown",
   "metadata": {},
   "source": [
    "### Step 1: Initialize the endpoints"
   ]
  },
  {
   "cell_type": "code",
   "execution_count": 98,
   "metadata": {},
   "outputs": [],
   "source": [
    "def init_path():\n",
    "    y = np.random.rand(1,2)\n",
    "    p1 = (0, 0)\n",
    "    p2 = (1, np.random.uniform(-1,0))\n",
    "    \n",
    "    return p1, p2"
   ]
  },
  {
   "cell_type": "code",
   "execution_count": 99,
   "metadata": {},
   "outputs": [
    {
     "name": "stdout",
     "output_type": "stream",
     "text": [
      "(0, 0) (1, -0.2247104640349914)\n"
     ]
    }
   ],
   "source": [
    "p1, p2 = init_path()\n",
    "print(p1, p2)"
   ]
  },
  {
   "cell_type": "markdown",
   "metadata": {},
   "source": [
    "### Step 2: Make a random path\n",
    "\n",
    "To make the initial generation of paths more useful, some constraints are placed on the algorithm. Paths must:\n",
    "1. Be bounded by the endpoints\n",
    "2. Be differentiable"
   ]
  },
  {
   "cell_type": "code",
   "execution_count": 100,
   "metadata": {},
   "outputs": [],
   "source": [
    "def generate_path(p1, p2):\n",
    "    \n",
    "    # Seperate x's and y's\n",
    "    x = [p[0] for p in [p1,p2]]\n",
    "    y = [p[1] for p in [p1,p2]]\n",
    "    \n",
    "    # Linearly interpolate the two points\n",
    "    f = interp1d(x, y, kind='linear')\n",
    "    \n",
    "    # Make the domain\n",
    "    x = np.linspace(0,1,26)\n",
    "    y = []\n",
    "    \n",
    "    # Fill in the range\n",
    "    for index, item in enumerate(x):\n",
    "        \n",
    "        # Bound the curve at the two points p1 and p2\n",
    "        if (item == min(x)):\n",
    "            y.append(p1[1])\n",
    "        elif (item == max(x)):\n",
    "            y.append(p2[1])\n",
    "            \n",
    "        # For every point excluding the boundary, add noise\n",
    "        else:\n",
    "            y.append(f(item) + np.random.uniform(-1,0))\n",
    "    \n",
    "    # Iterpolate the data (x, y) to create the path\n",
    "    f2 = interp1d(x, y, kind='quadratic')\n",
    "    \n",
    "    return f2"
   ]
  },
  {
   "cell_type": "code",
   "execution_count": 101,
   "metadata": {},
   "outputs": [
    {
     "data": {
      "image/png": "[encoded data removed]",
      "text/plain": [
       "<matplotlib.figure.Figure at 0x1089965f8>"
      ]
     },
     "metadata": {},
     "output_type": "display_data"
    }
   ],
   "source": [
    "# Visualize the path\n",
    "f2 = generate_path(p1, p2)\n",
    "xnew = np.linspace(0,1,1001)\n",
    "plt.plot(xnew, f2(xnew), '--')\n",
    "plt.title(\"Random path\")\n",
    "plt.show()"
   ]
  },
  {
   "cell_type": "markdown",
   "metadata": {},
   "source": [
    "### Step 3: Fitness function\n",
    "\n",
    "The parameter we are trying to optimize time; therefore, a logical output for the fitness function would be the time it takes a particle to travel along the random path. To simplify the calculation for time, assume the particle travelling this path is a point mass, friction is negligble, and that the particle starts at rest.\n",
    "\n",
    "The following derivation of the time $T$ required to travel that path is motivated from the simple observation \n",
    "$$ v = \\frac{ds}{dt} \\Leftrightarrow dt = \\frac{ds}{v}$$\n",
    "\n",
    "\n",
    "Because we are assuming a uniform gravitational field, the total energy of the system as a function of x is\n",
    "\n",
    "$$E(x) = K + U_g = \\frac{1}{2}mv(x)^2 + mgh(x) = \\frac{1}{2}mv(x)^2 + mgf(x)$$\n",
    "\n",
    "\n",
    "Additionally, because the particle starts at rest \n",
    "$$E(x=0)=0$$\n",
    "\n",
    "Combining these equations, we see\n",
    "$$\\frac{1}{2}mv(x)^2 + mgf(x) = 0$$\n",
    "\n",
    "$$v(x)^2 = -2gf(x)$$\n",
    "\n",
    "$$v(x) \\propto \\sqrt{-f(x)}$$\n",
    "\n",
    "\n",
    "To find the total displacement along the curve ($ds$) for a differential movement in the x direction ($dx$), we can use the arc length formula:\n",
    "$$ds = dx \\sqrt{1 + f'(x))}$$\n",
    "\n",
    "Then, the time to move $ds$ along $f(x)$ is given by $dt = \\frac{ds}{v(x)}$. Thus,\n",
    "$$T = \\int{dt} = \\int_{0}^{x_n} \\frac{ds}{v(x)} = \\int_{0}^{x_n} \\sqrt{\\frac{1 + f'(x)}{-f(x)}}dx$$"
   ]
  },
  {
   "cell_type": "code",
   "execution_count": null,
   "metadata": {},
   "outputs": [],
   "source": []
  }
 ],
 "metadata": {
  "kernelspec": {
   "display_name": "Python 3",
   "language": "python",
   "name": "python3"
  },
  "language_info": {
   "codemirror_mode": {
    "name": "ipython",
    "version": 3
   },
   "file_extension": ".py",
   "mimetype": "text/x-python",
   "name": "python",
   "nbconvert_exporter": "python",
   "pygments_lexer": "ipython3",
   "version": "3.6.4"
  }
 },
 "nbformat": 4,
 "nbformat_minor": 2
}
